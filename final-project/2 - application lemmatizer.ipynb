{
 "cells": [
  {
   "cell_type": "code",
   "execution_count": 1,
   "metadata": {},
   "outputs": [],
   "source": [
    "import pandas as pd\n",
    "import os\n",
    "import glob\n",
    "from unidecode import unidecode\n",
    "from datetime import datetime"
   ]
  },
  {
   "cell_type": "code",
   "execution_count": 2,
   "metadata": {},
   "outputs": [],
   "source": [
    "STOPWORDS = pd.read_csv('stopwords.csv')\n",
    "STOPWORDS = list(STOPWORDS.Mots)\n",
    "STOPWORDS_AJOUT = ['script','offset','wikipédia','sujets','sujet','géographie','drapeau','monde','langue','superficie','Europe','Asie','Afrique','Amérique','Océanie','articles','wikicode','modifier','cookies', 'pays','publier','publié','publie','publiés','page','journal','connecter', 'presse', 'médias', 'article','janvier','février','mars','avril','mai','juin','juillet','août','septembre','octobre','novembre','décembre']\n",
    "STOPWORDS.extend(STOPWORDS_AJOUT)\n",
    "STOPWORDS_SS_ACCENTS = [unidecode(x) for x in STOPWORDS]\n",
    "STOPWORDS_SS_ACCENTS = list(set(STOPWORDS_SS_ACCENTS))\n",
    "\n",
    "SELECTWORDS = pd.read_csv('Lexique382.csv', encoding='cp1252', sep=';')\n",
    "SELECTWORDS = list(SELECTWORDS.mot)\n",
    "SELECTWORDS_SS_ACCENTS = [unidecode(str(x)) for x in SELECTWORDS]\n",
    "SELECTWORDS_SS_ACCENTS = [x for x in SELECTWORDS_SS_ACCENTS if x not in STOPWORDS_SS_ACCENTS]\n",
    "SELECTWORDS_SS_ACCENTS_SET = set(SELECTWORDS_SS_ACCENTS)"
   ]
  },
  {
   "cell_type": "markdown",
   "metadata": {},
   "source": [
    "# Constitution d'une base si besoin de grouper des fichiers"
   ]
  },
  {
   "cell_type": "code",
   "execution_count": 24,
   "metadata": {},
   "outputs": [],
   "source": [
    "def get_merged_csv(f_list, **kwargs):\n",
    "    return pd.concat([pd.read_csv(f, **kwargs) for f in f_list], ignore_index=True)\n",
    "\n",
    "base = get_merged_csv(glob.glob('base_résultats_1-2005_12-2005*.csv'), index_col=None)\n",
    "base2 = get_merged_csv(glob.glob('lignes_en_cours*.csv'), index_col=None)\n",
    "\n",
    "for df in [base, base2]:\n",
    "    df.columns = ['Index','Date_debut','Date_fin','Pays', 'Rang','Liste_URL', 'Contenu_page']"
   ]
  },
  {
   "cell_type": "code",
   "execution_count": 30,
   "metadata": {},
   "outputs": [],
   "source": [
    "base_complete = pd.concat([base,base2], axis = 0)\n",
    "base_complete.columns = ['Index','Date_debut','Date_fin','Pays', 'Rang','Liste_URL', 'Contenu_page']"
   ]
  },
  {
   "cell_type": "code",
   "execution_count": 34,
   "metadata": {},
   "outputs": [
    {
     "data": {
      "text/plain": [
       "(7553, 7)"
      ]
     },
     "execution_count": 34,
     "metadata": {},
     "output_type": "execute_result"
    }
   ],
   "source": [
    "base_complete.shape"
   ]
  },
  {
   "cell_type": "code",
   "execution_count": 35,
   "metadata": {},
   "outputs": [
    {
     "data": {
      "text/plain": [
       "array(['2005-01-01'], dtype=object)"
      ]
     },
     "execution_count": 35,
     "metadata": {},
     "output_type": "execute_result"
    }
   ],
   "source": [
    "base_complete.Date_debut.unique()"
   ]
  },
  {
   "cell_type": "code",
   "execution_count": 36,
   "metadata": {},
   "outputs": [],
   "source": [
    "base_complete.to_csv('base_résultats_1-2005_12-2005.csv')"
   ]
  },
  {
   "cell_type": "markdown",
   "metadata": {},
   "source": [
    "# appel de la base sinon"
   ]
  },
  {
   "cell_type": "code",
   "execution_count": 79,
   "metadata": {},
   "outputs": [],
   "source": [
    "base_complete = pd.read_csv('base_résultats_1-2005_12-2005.csv')"
   ]
  },
  {
   "cell_type": "code",
   "execution_count": 37,
   "metadata": {},
   "outputs": [
    {
     "data": {
      "text/html": [
       "<div>\n",
       "<style scoped>\n",
       "    .dataframe tbody tr th:only-of-type {\n",
       "        vertical-align: middle;\n",
       "    }\n",
       "\n",
       "    .dataframe tbody tr th {\n",
       "        vertical-align: top;\n",
       "    }\n",
       "\n",
       "    .dataframe thead th {\n",
       "        text-align: right;\n",
       "    }\n",
       "</style>\n",
       "<table border=\"1\" class=\"dataframe\">\n",
       "  <thead>\n",
       "    <tr style=\"text-align: right;\">\n",
       "      <th></th>\n",
       "      <th>Index</th>\n",
       "      <th>Date_debut</th>\n",
       "      <th>Date_fin</th>\n",
       "      <th>Pays</th>\n",
       "      <th>Rang</th>\n",
       "      <th>Liste_URL</th>\n",
       "      <th>Contenu_page</th>\n",
       "    </tr>\n",
       "  </thead>\n",
       "  <tbody>\n",
       "    <tr>\n",
       "      <th>0</th>\n",
       "      <td>0</td>\n",
       "      <td>2005-01-01</td>\n",
       "      <td>2005-12-31</td>\n",
       "      <td>Afrique du Sud</td>\n",
       "      <td>0</td>\n",
       "      <td>http://perspective.usherbrooke.ca/bilan/servle...</td>\n",
       "      <td>btlac a btlac a visited btlac a link btlac a a...</td>\n",
       "    </tr>\n",
       "    <tr>\n",
       "      <th>1</th>\n",
       "      <td>1</td>\n",
       "      <td>2005-01-01</td>\n",
       "      <td>2005-12-31</td>\n",
       "      <td>Afrique du Sud</td>\n",
       "      <td>1</td>\n",
       "      <td>https://www.cairn.info/revue-politique-africai...</td>\n",
       "      <td>please enable js and disable any ad blockervar...</td>\n",
       "    </tr>\n",
       "    <tr>\n",
       "      <th>2</th>\n",
       "      <td>2</td>\n",
       "      <td>2005-01-01</td>\n",
       "      <td>2005-12-31</td>\n",
       "      <td>Afrique du Sud</td>\n",
       "      <td>2</td>\n",
       "      <td>http://www.afriquedusud.fr/</td>\n",
       "      <td>cdata     jquery function           slider    ...</td>\n",
       "    </tr>\n",
       "    <tr>\n",
       "      <th>3</th>\n",
       "      <td>3</td>\n",
       "      <td>2005-01-01</td>\n",
       "      <td>2005-12-31</td>\n",
       "      <td>Afrique du Sud</td>\n",
       "      <td>3</td>\n",
       "      <td>https://mappemonde-archive.mgm.fr/num6/article...</td>\n",
       "      <td>sommaire du numero    ndeg               les p...</td>\n",
       "    </tr>\n",
       "    <tr>\n",
       "      <th>4</th>\n",
       "      <td>4</td>\n",
       "      <td>2005-01-01</td>\n",
       "      <td>2005-12-31</td>\n",
       "      <td>Afrique du Sud</td>\n",
       "      <td>4</td>\n",
       "      <td>https://www.lemonde.fr/afrique/article/2005/05...</td>\n",
       "      <td>consulterle journal    navigation       le mon...</td>\n",
       "    </tr>\n",
       "    <tr>\n",
       "      <th>...</th>\n",
       "      <td>...</td>\n",
       "      <td>...</td>\n",
       "      <td>...</td>\n",
       "      <td>...</td>\n",
       "      <td>...</td>\n",
       "      <td>...</td>\n",
       "      <td>...</td>\n",
       "    </tr>\n",
       "    <tr>\n",
       "      <th>7548</th>\n",
       "      <td>1867</td>\n",
       "      <td>2005-01-01</td>\n",
       "      <td>2005-12-31</td>\n",
       "      <td>Zimbabwe</td>\n",
       "      <td>23</td>\n",
       "      <td>https://apps.who.int/medicinedocs/fr/d/Js6173f...</td>\n",
       "      <td>portail d information   medicaments essentiels...</td>\n",
       "    </tr>\n",
       "    <tr>\n",
       "      <th>7549</th>\n",
       "      <td>1868</td>\n",
       "      <td>2005-01-01</td>\n",
       "      <td>2005-12-31</td>\n",
       "      <td>Zimbabwe</td>\n",
       "      <td>24</td>\n",
       "      <td>http://www.astrium.com/fiches-pays/botswana-bw...</td>\n",
       "      <td>fiches pays                        fiches pays...</td>\n",
       "    </tr>\n",
       "    <tr>\n",
       "      <th>7550</th>\n",
       "      <td>1869</td>\n",
       "      <td>2005-01-01</td>\n",
       "      <td>2005-12-31</td>\n",
       "      <td>Zimbabwe</td>\n",
       "      <td>25</td>\n",
       "      <td>https://www.marbreriedesyvelines.com/granit/gr...</td>\n",
       "      <td>materiaux    granit                           ...</td>\n",
       "    </tr>\n",
       "    <tr>\n",
       "      <th>7551</th>\n",
       "      <td>1870</td>\n",
       "      <td>2005-01-01</td>\n",
       "      <td>2005-12-31</td>\n",
       "      <td>Zimbabwe</td>\n",
       "      <td>26</td>\n",
       "      <td>http://www.bruneaux.net/html/zimbabwe.htm</td>\n",
       "      <td>zimbabwe    parcours  traversee             de...</td>\n",
       "    </tr>\n",
       "    <tr>\n",
       "      <th>7552</th>\n",
       "      <td>1871</td>\n",
       "      <td>2005-01-01</td>\n",
       "      <td>2005-12-31</td>\n",
       "      <td>Zimbabwe</td>\n",
       "      <td>27</td>\n",
       "      <td>https://princembunga.skyrock.com/95280630-Koff...</td>\n",
       "      <td>oas ad  cornerfooter    oas ad  dhtml     skyr...</td>\n",
       "    </tr>\n",
       "  </tbody>\n",
       "</table>\n",
       "<p>7523 rows × 7 columns</p>\n",
       "</div>"
      ],
      "text/plain": [
       "      Index  Date_debut    Date_fin            Pays  Rang  \\\n",
       "0         0  2005-01-01  2005-12-31  Afrique du Sud     0   \n",
       "1         1  2005-01-01  2005-12-31  Afrique du Sud     1   \n",
       "2         2  2005-01-01  2005-12-31  Afrique du Sud     2   \n",
       "3         3  2005-01-01  2005-12-31  Afrique du Sud     3   \n",
       "4         4  2005-01-01  2005-12-31  Afrique du Sud     4   \n",
       "...     ...         ...         ...             ...   ...   \n",
       "7548   1867  2005-01-01  2005-12-31        Zimbabwe    23   \n",
       "7549   1868  2005-01-01  2005-12-31        Zimbabwe    24   \n",
       "7550   1869  2005-01-01  2005-12-31        Zimbabwe    25   \n",
       "7551   1870  2005-01-01  2005-12-31        Zimbabwe    26   \n",
       "7552   1871  2005-01-01  2005-12-31        Zimbabwe    27   \n",
       "\n",
       "                                              Liste_URL  \\\n",
       "0     http://perspective.usherbrooke.ca/bilan/servle...   \n",
       "1     https://www.cairn.info/revue-politique-africai...   \n",
       "2                           http://www.afriquedusud.fr/   \n",
       "3     https://mappemonde-archive.mgm.fr/num6/article...   \n",
       "4     https://www.lemonde.fr/afrique/article/2005/05...   \n",
       "...                                                 ...   \n",
       "7548  https://apps.who.int/medicinedocs/fr/d/Js6173f...   \n",
       "7549  http://www.astrium.com/fiches-pays/botswana-bw...   \n",
       "7550  https://www.marbreriedesyvelines.com/granit/gr...   \n",
       "7551          http://www.bruneaux.net/html/zimbabwe.htm   \n",
       "7552  https://princembunga.skyrock.com/95280630-Koff...   \n",
       "\n",
       "                                           Contenu_page  \n",
       "0     btlac a btlac a visited btlac a link btlac a a...  \n",
       "1     please enable js and disable any ad blockervar...  \n",
       "2     cdata     jquery function           slider    ...  \n",
       "3     sommaire du numero    ndeg               les p...  \n",
       "4     consulterle journal    navigation       le mon...  \n",
       "...                                                 ...  \n",
       "7548  portail d information   medicaments essentiels...  \n",
       "7549  fiches pays                        fiches pays...  \n",
       "7550  materiaux    granit                           ...  \n",
       "7551  zimbabwe    parcours  traversee             de...  \n",
       "7552  oas ad  cornerfooter    oas ad  dhtml     skyr...  \n",
       "\n",
       "[7523 rows x 7 columns]"
      ]
     },
     "execution_count": 37,
     "metadata": {},
     "output_type": "execute_result"
    }
   ],
   "source": [
    "base_complete.drop_duplicates()\n",
    "#base_complete[(base_complete.apply(lambda x: any(pd.isna(x)), 1))]\n",
    "base_complete.dropna()"
   ]
  },
  {
   "cell_type": "markdown",
   "metadata": {},
   "source": [
    "## Fonctions de traitement du texte\n",
    "- suppression des espaces en trop\n",
    "- tokenisation\n",
    "- sélection des mots et suppression des sites inexploitables (- de 30 mots retenus)\n",
    "- lemmatisation"
   ]
  },
  {
   "cell_type": "code",
   "execution_count": 38,
   "metadata": {},
   "outputs": [],
   "source": [
    "import re\n",
    "from french_lefff_lemmatizer.french_lefff_lemmatizer import FrenchLefffLemmatizer\n",
    "\n",
    "\n",
    "def supprespace(x):\n",
    "    if type(x) is str:\n",
    "        return re.sub(' ', ' ',(x.strip()))\n",
    "    return x\n",
    "\n",
    "def tokenize(s):\n",
    "    return(supprespace(str(s)).split(\" \"))\n",
    "\n",
    "\n",
    "def keep_goodwords(l):\n",
    "    goodwords = [x for x in list(set(l).intersection(SELECTWORDS_SS_ACCENTS_SET)) if (len(x) > 3)]\n",
    "    if len(goodwords)>30:\n",
    "        return goodwords\n",
    "    else:\n",
    "        return \"poubelle\"\n",
    "    \n",
    "\n",
    "def lemmatize(l):\n",
    "    lemmatizer = FrenchLefffLemmatizer()\n",
    "    return ' '.join(list(map(lambda s: lemmatizer.lemmatize(str(s)), l)))\n",
    "\n",
    "def bag_of_words (texte):\n",
    "    bow = tokenize(texte)\n",
    "    bow = keep_goodwords(bow)\n",
    "    return bow"
   ]
  },
  {
   "cell_type": "markdown",
   "metadata": {},
   "source": [
    "## Lemmatisation et export de la base en 2 étapes"
   ]
  },
  {
   "cell_type": "code",
   "execution_count": 39,
   "metadata": {},
   "outputs": [
    {
     "name": "stdout",
     "output_type": "stream",
     "text": [
      "0:00:49.197463\n"
     ]
    }
   ],
   "source": [
    "avant = datetime.now()\n",
    "base_complete['Mots_retenus'] = base_complete.Contenu_page.apply(bag_of_words)\n",
    "base_complete.to_csv('base_avec_mots_retenus'+base_complete.Date_debut[0][:4]+'.csv')\n",
    "apres = datetime.now()\n",
    "print(apres-avant)"
   ]
  },
  {
   "cell_type": "code",
   "execution_count": null,
   "metadata": {},
   "outputs": [],
   "source": []
  },
  {
   "cell_type": "code",
   "execution_count": 40,
   "metadata": {},
   "outputs": [
    {
     "name": "stdout",
     "output_type": "stream",
     "text": [
      "13:32:26.744766\n"
     ]
    }
   ],
   "source": [
    "avant = datetime.now()\n",
    "base_complete['Mots_lemm'] = base_complete.Mots_retenus.apply(lemmatize)\n",
    "base_complete.to_csv('base_lemmatisee'+base_complete.Date_debut[0][:4]+'.csv')\n",
    "apres = datetime.now()\n",
    "print(apres-avant)"
   ]
  },
  {
   "cell_type": "code",
   "execution_count": 41,
   "metadata": {},
   "outputs": [
    {
     "data": {
      "text/plain": [
       "0    drogue manne province creees inegalites austra...\n",
       "1                                      p o u b e l l e\n",
       "2    exquis raison evenements majeure centaine brac...\n",
       "3    relie dorsale province definitivement organise...\n",
       "4    appareil cautionner trilogie petit entreprise ...\n",
       "Name: Mots_lemm, dtype: object"
      ]
     },
     "execution_count": 41,
     "metadata": {},
     "output_type": "execute_result"
    }
   ],
   "source": [
    "base_complete.Mots_lemm.head()"
   ]
  },
  {
   "cell_type": "code",
   "execution_count": 43,
   "metadata": {},
   "outputs": [
    {
     "data": {
      "text/plain": [
       "(7553, 9)"
      ]
     },
     "execution_count": 43,
     "metadata": {},
     "output_type": "execute_result"
    }
   ],
   "source": [
    "base_complete.shape"
   ]
  }
 ],
 "metadata": {
  "kernelspec": {
   "display_name": "Python 3",
   "language": "python",
   "name": "python3"
  },
  "language_info": {
   "codemirror_mode": {
    "name": "ipython",
    "version": 3
   },
   "file_extension": ".py",
   "mimetype": "text/x-python",
   "name": "python",
   "nbconvert_exporter": "python",
   "pygments_lexer": "ipython3",
   "version": "3.7.3"
  }
 },
 "nbformat": 4,
 "nbformat_minor": 2
}
